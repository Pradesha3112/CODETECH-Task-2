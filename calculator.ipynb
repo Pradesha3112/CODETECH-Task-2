{
 "cells": [
  {
   "cell_type": "markdown",
   "metadata": {},
   "source": [
    "SIMPLE CALCULATOR"
   ]
  },
  {
   "cell_type": "markdown",
   "metadata": {},
   "source": [
    "INPUT FROM USER:\n",
    "*Num1\n",
    "*Num2\n",
    "\n",
    "OPERATION:\n",
    "*Addition\n",
    "*Subtraction\n",
    "*Multiplication\n",
    "*Division"
   ]
  },
  {
   "cell_type": "code",
   "execution_count": 1,
   "metadata": {},
   "outputs": [
    {
     "name": "stdout",
     "output_type": "stream",
     "text": [
      "1.ADDITION\n",
      "2.SUBTRACTION\n",
      "3.MULTIPLICATION\n",
      "4.DIVISION\n",
      "5.EXIT\n",
      "The subtraction of two numbers are 19\n",
      "1.ADDITION\n",
      "2.SUBTRACTION\n",
      "3.MULTIPLICATION\n",
      "4.DIVISION\n",
      "5.EXIT\n",
      "---THANK YOU---\n"
     ]
    }
   ],
   "source": [
    "while True:\n",
    "    print(\"1.ADDITION\")\n",
    "    print(\"2.SUBTRACTION\")\n",
    "    print(\"3.MULTIPLICATION\")\n",
    "    print(\"4.DIVISION\")\n",
    "    print(\"5.EXIT\")\n",
    "    c=int(input(\"Enter your choice:\"))\n",
    "    \n",
    "    if(c==1):\n",
    "        Num1=int(input(\"Enter first number\"))\n",
    "        Num2=int(input(\"Enter second number\"))\n",
    "\n",
    "        print(\"The addition of two numbers are\",Num1+Num2)\n",
    "    elif(c==2):\n",
    "        Num1=int(input(\"Enter first number\"))\n",
    "        Num2=int(input(\"Enter second number\"))\n",
    "\n",
    "        if(Num1>Num2):\n",
    "            print(\"The subtraction of two numbers are\",Num1-Num2)\n",
    "        elif(Num2>Num1):\n",
    "            print(\"The subtraction of two numbers are\",Num2-Num1)\n",
    "        elif(Num1==Num2):\n",
    "            print(\"Both inputs are same, so the difference is 0\")\n",
    "    elif(c==3):\n",
    "        Num1=int(input(\"Enter first number\"))\n",
    "        Num2=int(input(\"Enter second number\"))\n",
    "\n",
    "        print(\"The multiplication of two numbers are \",Num1*Num2)\n",
    "    elif(c==4):\n",
    "        Num1=int(input(\"Enter first number\"))\n",
    "        Num2=int(input(\"Enter second number\"))\n",
    "\n",
    "        if (Num1==0 or Num2==0):\n",
    "            print(\"Check both the inputs are greater than zero\")\n",
    "        print(\"The division of two numbers are\",Num1//Num2)\n",
    "    elif(c==5):\n",
    "        print(\"---THANK YOU---\")\n",
    "        break\n",
    "    else:\n",
    "        print(\"Check the entered choice\")\n"
   ]
  }
 ],
 "metadata": {
  "kernelspec": {
   "display_name": "Python 3",
   "language": "python",
   "name": "python3"
  },
  "language_info": {
   "codemirror_mode": {
    "name": "ipython",
    "version": 3
   },
   "file_extension": ".py",
   "mimetype": "text/x-python",
   "name": "python",
   "nbconvert_exporter": "python",
   "pygments_lexer": "ipython3",
   "version": "3.12.7"
  }
 },
 "nbformat": 4,
 "nbformat_minor": 2
}
